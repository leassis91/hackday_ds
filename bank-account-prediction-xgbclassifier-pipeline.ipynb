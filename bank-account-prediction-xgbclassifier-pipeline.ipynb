{
 "cells": [
  {
   "cell_type": "markdown",
   "id": "08ef1d1e",
   "metadata": {
    "papermill": {
     "duration": 0.022548,
     "end_time": "2022-06-13T22:30:25.973833",
     "exception": false,
     "start_time": "2022-06-13T22:30:25.951285",
     "status": "completed"
    },
    "tags": []
   },
   "source": [
    "<h1><center> HACKDAY - COMUNIDADE DS' COMPETITION</center></h1>"
   ]
  },
  {
   "cell_type": "markdown",
   "id": "9805f60e",
   "metadata": {
    "papermill": {
     "duration": 0.020327,
     "end_time": "2022-06-13T22:30:26.016770",
     "exception": false,
     "start_time": "2022-06-13T22:30:25.996443",
     "status": "completed"
    },
    "tags": []
   },
   "source": [
    "<h3><center> This approach scored 0.89529 in another <a href=\"https://www.kaggle.com/competitions/incluso-financeira-na-africa-late-submission/overview\" target=\"_blank\">competition's</a> test dataset. Main change was labeling \"household_size\" instead of using RobustScaler or applying np.log.</center></h2>\n",
    "\n"
   ]
  },
  {
   "cell_type": "markdown",
   "id": "938902f9",
   "metadata": {
    "papermill": {
     "duration": 0.021192,
     "end_time": "2022-06-13T22:30:26.059301",
     "exception": false,
     "start_time": "2022-06-13T22:30:26.038109",
     "status": "completed"
    },
    "tags": []
   },
   "source": [
    "# 0.0 IMPORTS"
   ]
  },
  {
   "cell_type": "code",
   "execution_count": 1,
   "id": "92c406a5",
   "metadata": {
    "ExecuteTime": {
     "end_time": "2022-06-03T16:49:16.778643Z",
     "start_time": "2022-06-03T16:49:16.765639Z"
    },
    "execution": {
     "iopub.execute_input": "2022-06-13T22:30:26.104508Z",
     "iopub.status.busy": "2022-06-13T22:30:26.103736Z",
     "iopub.status.idle": "2022-06-13T22:30:28.773980Z",
     "shell.execute_reply": "2022-06-13T22:30:28.772865Z"
    },
    "papermill": {
     "duration": 2.695986,
     "end_time": "2022-06-13T22:30:28.776507",
     "exception": false,
     "start_time": "2022-06-13T22:30:26.080521",
     "status": "completed"
    },
    "tags": []
   },
   "outputs": [
    {
     "data": {
      "text/html": [
       "<style type='text/css'>\n",
       ".datatable table.frame { margin-bottom: 0; }\n",
       ".datatable table.frame thead { border-bottom: none; }\n",
       ".datatable table.frame tr.coltypes td {  color: #FFFFFF;  line-height: 6px;  padding: 0 0.5em;}\n",
       ".datatable .bool    { background: #DDDD99; }\n",
       ".datatable .object  { background: #565656; }\n",
       ".datatable .int     { background: #5D9E5D; }\n",
       ".datatable .float   { background: #4040CC; }\n",
       ".datatable .str     { background: #CC4040; }\n",
       ".datatable .time    { background: #40CC40; }\n",
       ".datatable .row_index {  background: var(--jp-border-color3);  border-right: 1px solid var(--jp-border-color0);  color: var(--jp-ui-font-color3);  font-size: 9px;}\n",
       ".datatable .frame tbody td { text-align: left; }\n",
       ".datatable .frame tr.coltypes .row_index {  background: var(--jp-border-color0);}\n",
       ".datatable th:nth-child(2) { padding-left: 12px; }\n",
       ".datatable .hellipsis {  color: var(--jp-cell-editor-border-color);}\n",
       ".datatable .vellipsis {  background: var(--jp-layout-color0);  color: var(--jp-cell-editor-border-color);}\n",
       ".datatable .na {  color: var(--jp-cell-editor-border-color);  font-size: 80%;}\n",
       ".datatable .sp {  opacity: 0.25;}\n",
       ".datatable .footer { font-size: 9px; }\n",
       ".datatable .frame_dimensions {  background: var(--jp-border-color3);  border-top: 1px solid var(--jp-border-color0);  color: var(--jp-ui-font-color3);  display: inline-block;  opacity: 0.6;  padding: 1px 10px 1px 5px;}\n",
       "</style>\n"
      ],
      "text/plain": [
       "<IPython.core.display.HTML object>"
      ]
     },
     "metadata": {},
     "output_type": "display_data"
    }
   ],
   "source": [
    "import pandas as pd\n",
    "import numpy as np\n",
    "import matplotlib.pyplot as plt\n",
    "import seaborn as sns\n",
    "\n",
    "from datetime import datetime\n",
    "\n",
    "from IPython.core.display  import HTML\n",
    "from IPython.display       import Image\n",
    "\n",
    "from itertools import combinations\n",
    "\n",
    "from lightgbm                import LGBMClassifier\n",
    "from sklearn.preprocessing   import RobustScaler, MinMaxScaler, OneHotEncoder, LabelEncoder, PolynomialFeatures, StandardScaler\n",
    "from sklearn.ensemble        import RandomForestClassifier\n",
    "from sklearn.ensemble        import ExtraTreesClassifier\n",
    "from sklearn.neighbors       import KNeighborsClassifier\n",
    "from sklearn.ensemble        import RandomForestClassifier\n",
    "from sklearn.linear_model    import LogisticRegression\n",
    "from sklearn.linear_model    import LogisticRegressionCV\n",
    "from sklearn.metrics         import confusion_matrix\n",
    "\n",
    "\n",
    "from xgboost                 import XGBClassifier\n",
    "from sklearn.svm             import SVC\n",
    "from catboost                import CatBoostClassifier\n",
    "\n",
    "from sklearn.model_selection import train_test_split, cross_val_score, GridSearchCV\n",
    "\n",
    "from sklearn.metrics         import accuracy_score\n",
    "from sklearn.metrics         import f1_score\n",
    "from sklearn.metrics         import roc_auc_score\n",
    "\n",
    "from scikitplot              import metrics         as mt\n",
    "\n",
    "from sklearn.pipeline        import Pipeline\n",
    "from sklearn.compose         import ColumnTransformer\n",
    "\n",
    "import warnings\n",
    "warnings.filterwarnings('ignore')"
   ]
  },
  {
   "cell_type": "markdown",
   "id": "fc1418e2",
   "metadata": {
    "heading_collapsed": true,
    "papermill": {
     "duration": 0.021602,
     "end_time": "2022-06-13T22:30:28.820110",
     "exception": false,
     "start_time": "2022-06-13T22:30:28.798508",
     "status": "completed"
    },
    "tags": []
   },
   "source": [
    "## 0.1. Helper Functions"
   ]
  },
  {
   "cell_type": "code",
   "execution_count": 2,
   "id": "1f0c6757",
   "metadata": {
    "ExecuteTime": {
     "end_time": "2022-06-03T18:08:39.384644Z",
     "start_time": "2022-06-03T18:08:39.369641Z"
    },
    "execution": {
     "iopub.execute_input": "2022-06-13T22:30:28.865146Z",
     "iopub.status.busy": "2022-06-13T22:30:28.864625Z",
     "iopub.status.idle": "2022-06-13T22:30:28.877052Z",
     "shell.execute_reply": "2022-06-13T22:30:28.876457Z"
    },
    "hidden": true,
    "papermill": {
     "duration": 0.037174,
     "end_time": "2022-06-13T22:30:28.878787",
     "exception": false,
     "start_time": "2022-06-13T22:30:28.841613",
     "status": "completed"
    },
    "tags": []
   },
   "outputs": [
    {
     "data": {
      "text/html": [
       "<style>.conteiner{width:100% !important;}</style>"
      ],
      "text/plain": [
       "<IPython.core.display.HTML object>"
      ]
     },
     "metadata": {},
     "output_type": "display_data"
    }
   ],
   "source": [
    "def jupyter_settings():\n",
    "    %matplotlib inline\n",
    "\n",
    "    plt.style.use('bmh')\n",
    "    plt.rcParams['figure.figsize'] = [16, 12]\n",
    "    plt.rcParams['font.size'] = 16\n",
    "\n",
    "    display(HTML('<style>.conteiner{width:100% !important;}</style>'))\n",
    "\n",
    "    pd.options.display.max_columns = None\n",
    "    pd.options.display.max_rows = None\n",
    "    pd.set_option('display.expand_frame_repr', False)\n",
    "    # configura o pandas para quantidade de casas decimais\n",
    "    pd.set_option('display.float_format', lambda x: '%.4f' % x)\n",
    "\n",
    "    sns.set()\n",
    "jupyter_settings()"
   ]
  },
  {
   "cell_type": "markdown",
   "id": "55228152",
   "metadata": {
    "heading_collapsed": true,
    "papermill": {
     "duration": 0.020917,
     "end_time": "2022-06-13T22:30:28.920998",
     "exception": false,
     "start_time": "2022-06-13T22:30:28.900081",
     "status": "completed"
    },
    "tags": []
   },
   "source": [
    "## 0.2. Loading Data"
   ]
  },
  {
   "cell_type": "code",
   "execution_count": 3,
   "id": "1e54fd2e",
   "metadata": {
    "ExecuteTime": {
     "end_time": "2022-06-03T16:49:45.337638Z",
     "start_time": "2022-06-03T16:49:45.295641Z"
    },
    "execution": {
     "iopub.execute_input": "2022-06-13T22:30:28.965579Z",
     "iopub.status.busy": "2022-06-13T22:30:28.965015Z",
     "iopub.status.idle": "2022-06-13T22:30:29.089878Z",
     "shell.execute_reply": "2022-06-13T22:30:29.089116Z"
    },
    "hidden": true,
    "papermill": {
     "duration": 0.149346,
     "end_time": "2022-06-13T22:30:29.091865",
     "exception": false,
     "start_time": "2022-06-13T22:30:28.942519",
     "status": "completed"
    },
    "tags": []
   },
   "outputs": [],
   "source": [
    "# Load the datasets\n",
    "train = pd.read_csv('/kaggle/input/inclusao-financeira-na-africa/train.csv')\n",
    "test = pd.read_csv('/kaggle/input/inclusao-financeira-na-africa/test.csv')"
   ]
  },
  {
   "cell_type": "code",
   "execution_count": 4,
   "id": "95a18f50",
   "metadata": {
    "ExecuteTime": {
     "end_time": "2022-06-03T16:49:45.654642Z",
     "start_time": "2022-06-03T16:49:45.640638Z"
    },
    "execution": {
     "iopub.execute_input": "2022-06-13T22:30:29.137044Z",
     "iopub.status.busy": "2022-06-13T22:30:29.136194Z",
     "iopub.status.idle": "2022-06-13T22:30:29.158217Z",
     "shell.execute_reply": "2022-06-13T22:30:29.157435Z"
    },
    "hidden": true,
    "papermill": {
     "duration": 0.046513,
     "end_time": "2022-06-13T22:30:29.160053",
     "exception": false,
     "start_time": "2022-06-13T22:30:29.113540",
     "status": "completed"
    },
    "tags": []
   },
   "outputs": [
    {
     "data": {
      "text/html": [
       "<div>\n",
       "<style scoped>\n",
       "    .dataframe tbody tr th:only-of-type {\n",
       "        vertical-align: middle;\n",
       "    }\n",
       "\n",
       "    .dataframe tbody tr th {\n",
       "        vertical-align: top;\n",
       "    }\n",
       "\n",
       "    .dataframe thead th {\n",
       "        text-align: right;\n",
       "    }\n",
       "</style>\n",
       "<table border=\"1\" class=\"dataframe\">\n",
       "  <thead>\n",
       "    <tr style=\"text-align: right;\">\n",
       "      <th></th>\n",
       "      <th>country</th>\n",
       "      <th>year</th>\n",
       "      <th>uniqueid</th>\n",
       "      <th>location_type</th>\n",
       "      <th>cellphone_access</th>\n",
       "      <th>household_size</th>\n",
       "      <th>age_of_respondent</th>\n",
       "      <th>gender_of_respondent</th>\n",
       "      <th>relationship_with_head</th>\n",
       "      <th>marital_status</th>\n",
       "      <th>education_level</th>\n",
       "      <th>job_type</th>\n",
       "      <th>uid</th>\n",
       "      <th>bank_account</th>\n",
       "    </tr>\n",
       "  </thead>\n",
       "  <tbody>\n",
       "    <tr>\n",
       "      <th>0</th>\n",
       "      <td>Rwanda</td>\n",
       "      <td>2016</td>\n",
       "      <td>uniqueid_4858</td>\n",
       "      <td>Rural</td>\n",
       "      <td>Yes</td>\n",
       "      <td>6</td>\n",
       "      <td>45</td>\n",
       "      <td>Male</td>\n",
       "      <td>Head of Household</td>\n",
       "      <td>Divorced/Seperated</td>\n",
       "      <td>Primary education</td>\n",
       "      <td>Farming and Fishing</td>\n",
       "      <td>Rwanda_uniqueid_4858</td>\n",
       "      <td>No</td>\n",
       "    </tr>\n",
       "    <tr>\n",
       "      <th>1</th>\n",
       "      <td>Tanzania</td>\n",
       "      <td>2017</td>\n",
       "      <td>uniqueid_3015</td>\n",
       "      <td>Urban</td>\n",
       "      <td>No</td>\n",
       "      <td>4</td>\n",
       "      <td>33</td>\n",
       "      <td>Female</td>\n",
       "      <td>Head of Household</td>\n",
       "      <td>Single/Never Married</td>\n",
       "      <td>Primary education</td>\n",
       "      <td>Self employed</td>\n",
       "      <td>Tanzania_uniqueid_3015</td>\n",
       "      <td>No</td>\n",
       "    </tr>\n",
       "    <tr>\n",
       "      <th>2</th>\n",
       "      <td>Rwanda</td>\n",
       "      <td>2016</td>\n",
       "      <td>uniqueid_103</td>\n",
       "      <td>Rural</td>\n",
       "      <td>Yes</td>\n",
       "      <td>7</td>\n",
       "      <td>43</td>\n",
       "      <td>Male</td>\n",
       "      <td>Head of Household</td>\n",
       "      <td>Married/Living together</td>\n",
       "      <td>Secondary education</td>\n",
       "      <td>Farming and Fishing</td>\n",
       "      <td>Rwanda_uniqueid_103</td>\n",
       "      <td>No</td>\n",
       "    </tr>\n",
       "    <tr>\n",
       "      <th>3</th>\n",
       "      <td>Rwanda</td>\n",
       "      <td>2016</td>\n",
       "      <td>uniqueid_4582</td>\n",
       "      <td>Rural</td>\n",
       "      <td>No</td>\n",
       "      <td>6</td>\n",
       "      <td>35</td>\n",
       "      <td>Female</td>\n",
       "      <td>Head of Household</td>\n",
       "      <td>Married/Living together</td>\n",
       "      <td>Primary education</td>\n",
       "      <td>Farming and Fishing</td>\n",
       "      <td>Rwanda_uniqueid_4582</td>\n",
       "      <td>No</td>\n",
       "    </tr>\n",
       "    <tr>\n",
       "      <th>4</th>\n",
       "      <td>Tanzania</td>\n",
       "      <td>2017</td>\n",
       "      <td>uniqueid_2854</td>\n",
       "      <td>Urban</td>\n",
       "      <td>Yes</td>\n",
       "      <td>2</td>\n",
       "      <td>30</td>\n",
       "      <td>Male</td>\n",
       "      <td>Head of Household</td>\n",
       "      <td>Single/Never Married</td>\n",
       "      <td>Primary education</td>\n",
       "      <td>Informally employed</td>\n",
       "      <td>Tanzania_uniqueid_2854</td>\n",
       "      <td>No</td>\n",
       "    </tr>\n",
       "  </tbody>\n",
       "</table>\n",
       "</div>"
      ],
      "text/plain": [
       "    country  year       uniqueid location_type cellphone_access  household_size  age_of_respondent gender_of_respondent relationship_with_head           marital_status      education_level             job_type                     uid bank_account\n",
       "0    Rwanda  2016  uniqueid_4858         Rural              Yes               6                 45                 Male      Head of Household       Divorced/Seperated    Primary education  Farming and Fishing    Rwanda_uniqueid_4858           No\n",
       "1  Tanzania  2017  uniqueid_3015         Urban               No               4                 33               Female      Head of Household     Single/Never Married    Primary education        Self employed  Tanzania_uniqueid_3015           No\n",
       "2    Rwanda  2016   uniqueid_103         Rural              Yes               7                 43                 Male      Head of Household  Married/Living together  Secondary education  Farming and Fishing     Rwanda_uniqueid_103           No\n",
       "3    Rwanda  2016  uniqueid_4582         Rural               No               6                 35               Female      Head of Household  Married/Living together    Primary education  Farming and Fishing    Rwanda_uniqueid_4582           No\n",
       "4  Tanzania  2017  uniqueid_2854         Urban              Yes               2                 30                 Male      Head of Household     Single/Never Married    Primary education  Informally employed  Tanzania_uniqueid_2854           No"
      ]
     },
     "execution_count": 4,
     "metadata": {},
     "output_type": "execute_result"
    }
   ],
   "source": [
    "train.head()"
   ]
  },
  {
   "cell_type": "code",
   "execution_count": 5,
   "id": "35507043",
   "metadata": {
    "ExecuteTime": {
     "end_time": "2022-06-03T16:49:47.09364Z",
     "start_time": "2022-06-03T16:49:47.086639Z"
    },
    "execution": {
     "iopub.execute_input": "2022-06-13T22:30:29.204700Z",
     "iopub.status.busy": "2022-06-13T22:30:29.204112Z",
     "iopub.status.idle": "2022-06-13T22:30:29.210338Z",
     "shell.execute_reply": "2022-06-13T22:30:29.209733Z"
    },
    "hidden": true,
    "papermill": {
     "duration": 0.030464,
     "end_time": "2022-06-13T22:30:29.211971",
     "exception": false,
     "start_time": "2022-06-13T22:30:29.181507",
     "status": "completed"
    },
    "scrolled": true,
    "tags": []
   },
   "outputs": [
    {
     "data": {
      "text/plain": [
       "(11762, 14)"
      ]
     },
     "metadata": {},
     "output_type": "display_data"
    },
    {
     "data": {
      "text/plain": [
       "(11762, 13)"
      ]
     },
     "metadata": {},
     "output_type": "display_data"
    }
   ],
   "source": [
    "display(train.shape)\n",
    "display(test.shape)"
   ]
  },
  {
   "cell_type": "code",
   "execution_count": 6,
   "id": "8873976e",
   "metadata": {
    "ExecuteTime": {
     "end_time": "2022-06-03T16:49:47.623904Z",
     "start_time": "2022-06-03T16:49:47.6049Z"
    },
    "execution": {
     "iopub.execute_input": "2022-06-13T22:30:29.256888Z",
     "iopub.status.busy": "2022-06-13T22:30:29.256499Z",
     "iopub.status.idle": "2022-06-13T22:30:29.271678Z",
     "shell.execute_reply": "2022-06-13T22:30:29.270476Z"
    },
    "hidden": true,
    "papermill": {
     "duration": 0.040088,
     "end_time": "2022-06-13T22:30:29.273815",
     "exception": false,
     "start_time": "2022-06-13T22:30:29.233727",
     "status": "completed"
    },
    "tags": []
   },
   "outputs": [
    {
     "name": "stdout",
     "output_type": "stream",
     "text": [
      "Number of overlapping ID's between Train and Test set: 0\n"
     ]
    }
   ],
   "source": [
    "print(f\"Number of overlapping ID's between Train and Test set: {train['uid'].isin(test['uid']).sum()}\")"
   ]
  },
  {
   "cell_type": "markdown",
   "id": "957aae1f",
   "metadata": {
    "heading_collapsed": true,
    "papermill": {
     "duration": 0.021645,
     "end_time": "2022-06-13T22:30:29.317858",
     "exception": false,
     "start_time": "2022-06-13T22:30:29.296213",
     "status": "completed"
    },
    "tags": []
   },
   "source": [
    "# 1.0 DATA DESCRIPTION"
   ]
  },
  {
   "cell_type": "code",
   "execution_count": 7,
   "id": "56c0e559",
   "metadata": {
    "ExecuteTime": {
     "end_time": "2022-06-03T16:49:52.617483Z",
     "start_time": "2022-06-03T16:49:52.612483Z"
    },
    "execution": {
     "iopub.execute_input": "2022-06-13T22:30:29.363694Z",
     "iopub.status.busy": "2022-06-13T22:30:29.363045Z",
     "iopub.status.idle": "2022-06-13T22:30:29.367633Z",
     "shell.execute_reply": "2022-06-13T22:30:29.366957Z"
    },
    "hidden": true,
    "papermill": {
     "duration": 0.029541,
     "end_time": "2022-06-13T22:30:29.369383",
     "exception": false,
     "start_time": "2022-06-13T22:30:29.339842",
     "status": "completed"
    },
    "tags": []
   },
   "outputs": [],
   "source": [
    "df1 = train.copy()"
   ]
  },
  {
   "cell_type": "markdown",
   "id": "0c9ce260",
   "metadata": {
    "hidden": true,
    "papermill": {
     "duration": 0.021498,
     "end_time": "2022-06-13T22:30:29.412993",
     "exception": false,
     "start_time": "2022-06-13T22:30:29.391495",
     "status": "completed"
    },
    "tags": []
   },
   "source": [
    "## 1.1 Recognizing Dataset"
   ]
  },
  {
   "cell_type": "code",
   "execution_count": 8,
   "id": "7b66d7af",
   "metadata": {
    "ExecuteTime": {
     "end_time": "2022-06-03T16:49:55.319644Z",
     "start_time": "2022-06-03T16:49:55.311642Z"
    },
    "execution": {
     "iopub.execute_input": "2022-06-13T22:30:29.459073Z",
     "iopub.status.busy": "2022-06-13T22:30:29.458454Z",
     "iopub.status.idle": "2022-06-13T22:30:29.464079Z",
     "shell.execute_reply": "2022-06-13T22:30:29.463466Z"
    },
    "hidden": true,
    "papermill": {
     "duration": 0.030785,
     "end_time": "2022-06-13T22:30:29.465833",
     "exception": false,
     "start_time": "2022-06-13T22:30:29.435048",
     "status": "completed"
    },
    "tags": []
   },
   "outputs": [
    {
     "data": {
      "text/plain": [
       "Index(['country', 'year', 'uniqueid', 'location_type', 'cellphone_access',\n",
       "       'household_size', 'age_of_respondent', 'gender_of_respondent',\n",
       "       'relationship_with_head', 'marital_status', 'education_level',\n",
       "       'job_type', 'uid', 'bank_account'],\n",
       "      dtype='object')"
      ]
     },
     "execution_count": 8,
     "metadata": {},
     "output_type": "execute_result"
    }
   ],
   "source": [
    "df1.columns"
   ]
  },
  {
   "cell_type": "markdown",
   "id": "ee3288e4",
   "metadata": {
    "hidden": true,
    "papermill": {
     "duration": 0.021666,
     "end_time": "2022-06-13T22:30:29.509634",
     "exception": false,
     "start_time": "2022-06-13T22:30:29.487968",
     "status": "completed"
    },
    "tags": []
   },
   "source": [
    "- country - Pais de Origem.\n",
    "- year - Ano da Inclusão.\n",
    "- uniqueid - Id do Usuário.\n",
    "- bank_account - Possui ou Não a Conta no Banco.\n",
    "- location_type - Tipo de Localidade (Rural...)\n",
    "- cellphone_access - Possui ou Não Celular.\n",
    "- **household_size - Número de membros familiares.**\n",
    "- age_of_respondent - Idade do Usuário.\n",
    "- gender_of_respondent - Gênero do Usuário.\n",
    "- relationship_with_head - Status com o Dono da Conta.\n",
    "- marital_status - Situação Civil.\n",
    "- education_level - Nível de Educação.\n",
    "- job_type - Tipo de Trabalho."
   ]
  },
  {
   "cell_type": "code",
   "execution_count": 9,
   "id": "1370a705",
   "metadata": {
    "ExecuteTime": {
     "end_time": "2022-06-03T16:49:56.576641Z",
     "start_time": "2022-06-03T16:49:56.569639Z"
    },
    "execution": {
     "iopub.execute_input": "2022-06-13T22:30:29.555058Z",
     "iopub.status.busy": "2022-06-13T22:30:29.554425Z",
     "iopub.status.idle": "2022-06-13T22:30:29.561030Z",
     "shell.execute_reply": "2022-06-13T22:30:29.560464Z"
    },
    "hidden": true,
    "papermill": {
     "duration": 0.031463,
     "end_time": "2022-06-13T22:30:29.562793",
     "exception": false,
     "start_time": "2022-06-13T22:30:29.531330",
     "status": "completed"
    },
    "tags": []
   },
   "outputs": [
    {
     "data": {
      "text/plain": [
       "country                   object\n",
       "year                       int64\n",
       "uniqueid                  object\n",
       "location_type             object\n",
       "cellphone_access          object\n",
       "household_size             int64\n",
       "age_of_respondent          int64\n",
       "gender_of_respondent      object\n",
       "relationship_with_head    object\n",
       "marital_status            object\n",
       "education_level           object\n",
       "job_type                  object\n",
       "uid                       object\n",
       "bank_account              object\n",
       "dtype: object"
      ]
     },
     "execution_count": 9,
     "metadata": {},
     "output_type": "execute_result"
    }
   ],
   "source": [
    "df1.dtypes"
   ]
  },
  {
   "cell_type": "markdown",
   "id": "178342b1",
   "metadata": {
    "hidden": true,
    "papermill": {
     "duration": 0.022285,
     "end_time": "2022-06-13T22:30:29.607919",
     "exception": false,
     "start_time": "2022-06-13T22:30:29.585634",
     "status": "completed"
    },
    "tags": []
   },
   "source": [
    "## 1.2 Checking Missing Values"
   ]
  },
  {
   "cell_type": "code",
   "execution_count": 10,
   "id": "718072f5",
   "metadata": {
    "ExecuteTime": {
     "end_time": "2022-06-03T16:49:57.9369Z",
     "start_time": "2022-06-03T16:49:57.921897Z"
    },
    "execution": {
     "iopub.execute_input": "2022-06-13T22:30:29.655156Z",
     "iopub.status.busy": "2022-06-13T22:30:29.654554Z",
     "iopub.status.idle": "2022-06-13T22:30:29.676549Z",
     "shell.execute_reply": "2022-06-13T22:30:29.675677Z"
    },
    "hidden": true,
    "papermill": {
     "duration": 0.048046,
     "end_time": "2022-06-13T22:30:29.678496",
     "exception": false,
     "start_time": "2022-06-13T22:30:29.630450",
     "status": "completed"
    },
    "tags": []
   },
   "outputs": [
    {
     "data": {
      "text/plain": [
       "country                   0\n",
       "year                      0\n",
       "uniqueid                  0\n",
       "location_type             0\n",
       "cellphone_access          0\n",
       "household_size            0\n",
       "age_of_respondent         0\n",
       "gender_of_respondent      0\n",
       "relationship_with_head    0\n",
       "marital_status            0\n",
       "education_level           0\n",
       "job_type                  0\n",
       "uid                       0\n",
       "bank_account              0\n",
       "dtype: int64"
      ]
     },
     "execution_count": 10,
     "metadata": {},
     "output_type": "execute_result"
    }
   ],
   "source": [
    "df1.isna().sum().sort_values(ascending=False)"
   ]
  },
  {
   "cell_type": "markdown",
   "id": "a1a69997",
   "metadata": {
    "hidden": true,
    "papermill": {
     "duration": 0.022122,
     "end_time": "2022-06-13T22:30:29.723068",
     "exception": false,
     "start_time": "2022-06-13T22:30:29.700946",
     "status": "completed"
    },
    "tags": []
   },
   "source": [
    "## 1.3 Checking Unique Quantities"
   ]
  },
  {
   "cell_type": "code",
   "execution_count": 11,
   "id": "ee4153c7",
   "metadata": {
    "ExecuteTime": {
     "end_time": "2022-06-03T16:50:07.927402Z",
     "start_time": "2022-06-03T16:50:07.904895Z"
    },
    "execution": {
     "iopub.execute_input": "2022-06-13T22:30:29.769902Z",
     "iopub.status.busy": "2022-06-13T22:30:29.769483Z",
     "iopub.status.idle": "2022-06-13T22:30:29.787763Z",
     "shell.execute_reply": "2022-06-13T22:30:29.786692Z"
    },
    "hidden": true,
    "papermill": {
     "duration": 0.044763,
     "end_time": "2022-06-13T22:30:29.790493",
     "exception": false,
     "start_time": "2022-06-13T22:30:29.745730",
     "status": "completed"
    },
    "tags": []
   },
   "outputs": [
    {
     "name": "stdout",
     "output_type": "stream",
     "text": [
      "Feature 'country' has 4 unique categories.\n",
      "Feature 'location_type' has 2 unique categories.\n",
      "Feature 'cellphone_access' has 2 unique categories.\n",
      "Feature 'gender_of_respondent' has 2 unique categories.\n",
      "Feature 'relationship_with_head' has 6 unique categories.\n",
      "Feature 'marital_status' has 5 unique categories.\n",
      "Feature 'education_level' has 6 unique categories.\n",
      "Feature 'job_type' has 10 unique categories.\n",
      "Feature 'bank_account' has 2 unique categories.\n"
     ]
    }
   ],
   "source": [
    "u_ids = ['uniqueid', 'uid']\n",
    "for col_name in df1.columns:\n",
    "    if (df1[col_name].dtypes == 'object') and col_name not in u_ids:\n",
    "        unique_cat = len(df1[col_name].unique())\n",
    "        print(f\"Feature '{col_name}' has {unique_cat} unique categories.\")"
   ]
  },
  {
   "cell_type": "markdown",
   "id": "3c5728ea",
   "metadata": {
    "hidden": true,
    "papermill": {
     "duration": 0.022479,
     "end_time": "2022-06-13T22:30:29.837035",
     "exception": false,
     "start_time": "2022-06-13T22:30:29.814556",
     "status": "completed"
    },
    "tags": []
   },
   "source": [
    "**There is no feature with a large number of categories (<20) and we will apply OneHotEncoding on all our variables.**\n"
   ]
  },
  {
   "cell_type": "markdown",
   "id": "a23eee5e",
   "metadata": {
    "hidden": true,
    "papermill": {
     "duration": 0.022136,
     "end_time": "2022-06-13T22:30:29.881818",
     "exception": false,
     "start_time": "2022-06-13T22:30:29.859682",
     "status": "completed"
    },
    "tags": []
   },
   "source": [
    "## 1.4 Checking Balance"
   ]
  },
  {
   "cell_type": "code",
   "execution_count": 12,
   "id": "b32708f2",
   "metadata": {
    "ExecuteTime": {
     "end_time": "2022-06-03T17:49:43.411257Z",
     "start_time": "2022-06-03T17:49:43.373249Z"
    },
    "execution": {
     "iopub.execute_input": "2022-06-13T22:30:29.929394Z",
     "iopub.status.busy": "2022-06-13T22:30:29.928855Z",
     "iopub.status.idle": "2022-06-13T22:30:29.955658Z",
     "shell.execute_reply": "2022-06-13T22:30:29.954947Z"
    },
    "hidden": true,
    "papermill": {
     "duration": 0.05265,
     "end_time": "2022-06-13T22:30:29.957590",
     "exception": false,
     "start_time": "2022-06-13T22:30:29.904940",
     "status": "completed"
    },
    "tags": []
   },
   "outputs": [
    {
     "data": {
      "text/html": [
       "<div>\n",
       "<style scoped>\n",
       "    .dataframe tbody tr th:only-of-type {\n",
       "        vertical-align: middle;\n",
       "    }\n",
       "\n",
       "    .dataframe tbody tr th {\n",
       "        vertical-align: top;\n",
       "    }\n",
       "\n",
       "    .dataframe thead th {\n",
       "        text-align: right;\n",
       "    }\n",
       "</style>\n",
       "<table border=\"1\" class=\"dataframe\">\n",
       "  <thead>\n",
       "    <tr style=\"text-align: right;\">\n",
       "      <th></th>\n",
       "      <th>uniqueid</th>\n",
       "      <th>Percent</th>\n",
       "    </tr>\n",
       "    <tr>\n",
       "      <th>bank_account</th>\n",
       "      <th></th>\n",
       "      <th></th>\n",
       "    </tr>\n",
       "  </thead>\n",
       "  <tbody>\n",
       "    <tr>\n",
       "      <th>Yes</th>\n",
       "      <td>1685</td>\n",
       "      <td>14.33%</td>\n",
       "    </tr>\n",
       "    <tr>\n",
       "      <th>No</th>\n",
       "      <td>10077</td>\n",
       "      <td>85.67%</td>\n",
       "    </tr>\n",
       "  </tbody>\n",
       "</table>\n",
       "</div>"
      ],
      "text/plain": [
       "              uniqueid Percent\n",
       "bank_account                  \n",
       "Yes               1685  14.33%\n",
       "No               10077  85.67%"
      ]
     },
     "execution_count": 12,
     "metadata": {},
     "output_type": "execute_result"
    }
   ],
   "source": [
    "df1[['bank_account', 'uniqueid']].groupby('bank_account').agg({'uniqueid':'count'}).sort_values('bank_account', ascending=False)\n",
    "\n",
    "balance = pd.DataFrame(data=df1[['bank_account', 'uniqueid']].groupby('bank_account').agg({'uniqueid':'count'}).sort_values('bank_account', ascending=False), columns=['uniqueid'])\n",
    "balance['Percent'] = balance['uniqueid'].apply(lambda x: '{:.2f}%'.format(float(x)/df1.shape[0]*100))\n",
    "balance = balance[balance['uniqueid'] > 0]\n",
    "balance"
   ]
  },
  {
   "cell_type": "code",
   "execution_count": 13,
   "id": "3b6a4076",
   "metadata": {
    "ExecuteTime": {
     "end_time": "2022-06-03T17:49:44.052676Z",
     "start_time": "2022-06-03T17:49:43.89464Z"
    },
    "code_folding": [],
    "execution": {
     "iopub.execute_input": "2022-06-13T22:30:30.006472Z",
     "iopub.status.busy": "2022-06-13T22:30:30.005922Z",
     "iopub.status.idle": "2022-06-13T22:30:30.262190Z",
     "shell.execute_reply": "2022-06-13T22:30:30.261543Z"
    },
    "hidden": true,
    "papermill": {
     "duration": 0.282525,
     "end_time": "2022-06-13T22:30:30.263911",
     "exception": false,
     "start_time": "2022-06-13T22:30:29.981386",
     "status": "completed"
    },
    "tags": []
   },
   "outputs": [
    {
     "data": {
      "image/png": "[encoded data removed]",
      "text/plain": [
       "<Figure size 1152x864 with 1 Axes>"
      ]
     },
     "metadata": {},
     "output_type": "display_data"
    }
   ],
   "source": [
    "# visualize the target variable\n",
    "g = sns.countplot(x=df1['bank_account'])\n",
    "g.set_xticklabels(['No','Yes'])\n",
    "for p in g.patches:\n",
    "    g.annotate('\\n{:.0f}'.format(p.get_height()), (p.get_x()+0.387, p.get_height()), ha='center', va='top', size=30)\n",
    "plt.show()\n"
   ]
  },
  {
   "cell_type": "markdown",
   "id": "832995ba",
   "metadata": {
    "heading_collapsed": true,
    "hidden": true,
    "papermill": {
     "duration": 0.022901,
     "end_time": "2022-06-13T22:30:30.309800",
     "exception": false,
     "start_time": "2022-06-13T22:30:30.286899",
     "status": "completed"
    },
    "tags": []
   },
   "source": [
    "## 1.5 Checking Correlation"
   ]
  },
  {
   "cell_type": "code",
   "execution_count": 14,
   "id": "d87e4b9f",
   "metadata": {
    "ExecuteTime": {
     "end_time": "2022-06-03T16:13:37.715643Z",
     "start_time": "2022-06-03T16:13:37.70364Z"
    },
    "execution": {
     "iopub.execute_input": "2022-06-13T22:30:30.357971Z",
     "iopub.status.busy": "2022-06-13T22:30:30.357159Z",
     "iopub.status.idle": "2022-06-13T22:30:30.374107Z",
     "shell.execute_reply": "2022-06-13T22:30:30.373476Z"
    },
    "hidden": true,
    "papermill": {
     "duration": 0.042866,
     "end_time": "2022-06-13T22:30:30.375806",
     "exception": false,
     "start_time": "2022-06-13T22:30:30.332940",
     "status": "completed"
    },
    "tags": []
   },
   "outputs": [
    {
     "data": {
      "text/html": [
       "<div>\n",
       "<style scoped>\n",
       "    .dataframe tbody tr th:only-of-type {\n",
       "        vertical-align: middle;\n",
       "    }\n",
       "\n",
       "    .dataframe tbody tr th {\n",
       "        vertical-align: top;\n",
       "    }\n",
       "\n",
       "    .dataframe thead th {\n",
       "        text-align: right;\n",
       "    }\n",
       "</style>\n",
       "<table border=\"1\" class=\"dataframe\">\n",
       "  <thead>\n",
       "    <tr style=\"text-align: right;\">\n",
       "      <th></th>\n",
       "      <th>country</th>\n",
       "      <th>uniqueid</th>\n",
       "      <th>location_type</th>\n",
       "      <th>cellphone_access</th>\n",
       "      <th>gender_of_respondent</th>\n",
       "      <th>relationship_with_head</th>\n",
       "      <th>marital_status</th>\n",
       "      <th>education_level</th>\n",
       "      <th>job_type</th>\n",
       "      <th>uid</th>\n",
       "      <th>bank_account</th>\n",
       "    </tr>\n",
       "  </thead>\n",
       "  <tbody>\n",
       "    <tr>\n",
       "      <th>0</th>\n",
       "      <td>Rwanda</td>\n",
       "      <td>uniqueid_4858</td>\n",
       "      <td>Rural</td>\n",
       "      <td>Yes</td>\n",
       "      <td>Male</td>\n",
       "      <td>Head of Household</td>\n",
       "      <td>Divorced/Seperated</td>\n",
       "      <td>Primary education</td>\n",
       "      <td>Farming and Fishing</td>\n",
       "      <td>Rwanda_uniqueid_4858</td>\n",
       "      <td>No</td>\n",
       "    </tr>\n",
       "    <tr>\n",
       "      <th>1</th>\n",
       "      <td>Tanzania</td>\n",
       "      <td>uniqueid_3015</td>\n",
       "      <td>Urban</td>\n",
       "      <td>No</td>\n",
       "      <td>Female</td>\n",
       "      <td>Head of Household</td>\n",
       "      <td>Single/Never Married</td>\n",
       "      <td>Primary education</td>\n",
       "      <td>Self employed</td>\n",
       "      <td>Tanzania_uniqueid_3015</td>\n",
       "      <td>No</td>\n",
       "    </tr>\n",
       "    <tr>\n",
       "      <th>2</th>\n",
       "      <td>Rwanda</td>\n",
       "      <td>uniqueid_103</td>\n",
       "      <td>Rural</td>\n",
       "      <td>Yes</td>\n",
       "      <td>Male</td>\n",
       "      <td>Head of Household</td>\n",
       "      <td>Married/Living together</td>\n",
       "      <td>Secondary education</td>\n",
       "      <td>Farming and Fishing</td>\n",
       "      <td>Rwanda_uniqueid_103</td>\n",
       "      <td>No</td>\n",
       "    </tr>\n",
       "    <tr>\n",
       "      <th>3</th>\n",
       "      <td>Rwanda</td>\n",
       "      <td>uniqueid_4582</td>\n",
       "      <td>Rural</td>\n",
       "      <td>No</td>\n",
       "      <td>Female</td>\n",
       "      <td>Head of Household</td>\n",
       "      <td>Married/Living together</td>\n",
       "      <td>Primary education</td>\n",
       "      <td>Farming and Fishing</td>\n",
       "      <td>Rwanda_uniqueid_4582</td>\n",
       "      <td>No</td>\n",
       "    </tr>\n",
       "    <tr>\n",
       "      <th>4</th>\n",
       "      <td>Tanzania</td>\n",
       "      <td>uniqueid_2854</td>\n",
       "      <td>Urban</td>\n",
       "      <td>Yes</td>\n",
       "      <td>Male</td>\n",
       "      <td>Head of Household</td>\n",
       "      <td>Single/Never Married</td>\n",
       "      <td>Primary education</td>\n",
       "      <td>Informally employed</td>\n",
       "      <td>Tanzania_uniqueid_2854</td>\n",
       "      <td>No</td>\n",
       "    </tr>\n",
       "  </tbody>\n",
       "</table>\n",
       "</div>"
      ],
      "text/plain": [
       "    country       uniqueid location_type cellphone_access gender_of_respondent relationship_with_head           marital_status      education_level             job_type                     uid bank_account\n",
       "0    Rwanda  uniqueid_4858         Rural              Yes                 Male      Head of Household       Divorced/Seperated    Primary education  Farming and Fishing    Rwanda_uniqueid_4858           No\n",
       "1  Tanzania  uniqueid_3015         Urban               No               Female      Head of Household     Single/Never Married    Primary education        Self employed  Tanzania_uniqueid_3015           No\n",
       "2    Rwanda   uniqueid_103         Rural              Yes                 Male      Head of Household  Married/Living together  Secondary education  Farming and Fishing     Rwanda_uniqueid_103           No\n",
       "3    Rwanda  uniqueid_4582         Rural               No               Female      Head of Household  Married/Living together    Primary education  Farming and Fishing    Rwanda_uniqueid_4582           No\n",
       "4  Tanzania  uniqueid_2854         Urban              Yes                 Male      Head of Household     Single/Never Married    Primary education  Informally employed  Tanzania_uniqueid_2854           No"
      ]
     },
     "execution_count": 14,
     "metadata": {},
     "output_type": "execute_result"
    }
   ],
   "source": [
    "cat_attributes = df1.select_dtypes(exclude='int64')\n",
    "cat_attributes.head()"
   ]
  },
  {
   "cell_type": "code",
   "execution_count": 15,
   "id": "9fcf8845",
   "metadata": {
    "ExecuteTime": {
     "end_time": "2022-06-03T16:13:38.207714Z",
     "start_time": "2022-06-03T16:13:37.892643Z"
    },
    "execution": {
     "iopub.execute_input": "2022-06-13T22:30:30.424273Z",
     "iopub.status.busy": "2022-06-13T22:30:30.423658Z",
     "iopub.status.idle": "2022-06-13T22:30:31.282293Z",
     "shell.execute_reply": "2022-06-13T22:30:31.281176Z"
    },
    "hidden": true,
    "papermill": {
     "duration": 0.885524,
     "end_time": "2022-06-13T22:30:31.284569",
     "exception": false,
     "start_time": "2022-06-13T22:30:30.399045",
     "status": "completed"
    },
    "tags": []
   },
   "outputs": [
    {
     "data": {
      "image/png": "[encoded data removed]",
      "text/plain": [
       "<Figure size 1152x864 with 4 Axes>"
      ]
     },
     "metadata": {},
     "output_type": "display_data"
    }
   ],
   "source": [
    "num_attributes = df1.select_dtypes(include='int64')\n",
    "num_attributes.hist(bins=25);\n"
   ]
  },
  {
   "cell_type": "code",
   "execution_count": 16,
   "id": "2c7a8368",
   "metadata": {
    "ExecuteTime": {
     "end_time": "2022-06-03T16:13:37.032563Z",
     "start_time": "2022-06-03T16:13:36.908543Z"
    },
    "execution": {
     "iopub.execute_input": "2022-06-13T22:30:31.339732Z",
     "iopub.status.busy": "2022-06-13T22:30:31.339337Z",
     "iopub.status.idle": "2022-06-13T22:30:31.575640Z",
     "shell.execute_reply": "2022-06-13T22:30:31.574961Z"
    },
    "hidden": true,
    "papermill": {
     "duration": 0.26748,
     "end_time": "2022-06-13T22:30:31.577560",
     "exception": false,
     "start_time": "2022-06-13T22:30:31.310080",
     "status": "completed"
    },
    "tags": []
   },
   "outputs": [
    {
     "data": {
      "image/png": "[encoded data removed]",
      "text/plain": [
       "<Figure size 1152x864 with 2 Axes>"
      ]
     },
     "metadata": {},
     "output_type": "display_data"
    }
   ],
   "source": [
    "sns.heatmap(df1.corr(), annot=True);"
   ]
  },
  {
   "cell_type": "markdown",
   "id": "05d21b2a",
   "metadata": {
    "heading_collapsed": true,
    "papermill": {
     "duration": 0.024334,
     "end_time": "2022-06-13T22:30:31.626477",
     "exception": false,
     "start_time": "2022-06-13T22:30:31.602143",
     "status": "completed"
    },
    "tags": []
   },
   "source": [
    "# 2.0 FEATURE ENGINEERING"
   ]
  },
  {
   "cell_type": "code",
   "execution_count": 17,
   "id": "36668c4e",
   "metadata": {
    "ExecuteTime": {
     "end_time": "2022-06-03T17:57:10.442641Z",
     "start_time": "2022-06-03T17:57:10.43764Z"
    },
    "execution": {
     "iopub.execute_input": "2022-06-13T22:30:31.677355Z",
     "iopub.status.busy": "2022-06-13T22:30:31.676528Z",
     "iopub.status.idle": "2022-06-13T22:30:31.682998Z",
     "shell.execute_reply": "2022-06-13T22:30:31.682362Z"
    },
    "hidden": true,
    "papermill": {
     "duration": 0.034072,
     "end_time": "2022-06-13T22:30:31.684988",
     "exception": false,
     "start_time": "2022-06-13T22:30:31.650916",
     "status": "completed"
    },
    "tags": []
   },
   "outputs": [],
   "source": [
    "df2 = df1.copy()\n",
    "aux1 = df1.copy()\n",
    "aux2 = test.copy()"
   ]
  },
  {
   "cell_type": "markdown",
   "id": "b93efbcc",
   "metadata": {
    "hidden": true,
    "papermill": {
     "duration": 0.024207,
     "end_time": "2022-06-13T22:30:31.733822",
     "exception": false,
     "start_time": "2022-06-13T22:30:31.709615",
     "status": "completed"
    },
    "tags": []
   },
   "source": [
    "## 2.1 Handling Categories"
   ]
  },
  {
   "cell_type": "code",
   "execution_count": 19,
   "id": "b3bc2ea1",
   "metadata": {
    "ExecuteTime": {
     "end_time": "2022-06-03T17:57:35.345685Z",
     "start_time": "2022-06-03T17:57:35.138639Z"
    },
    "collapsed": true,
    "execution": {
     "iopub.execute_input": "2022-06-13T22:30:31.842791Z",
     "iopub.status.busy": "2022-06-13T22:30:31.841838Z",
     "iopub.status.idle": "2022-06-13T22:30:32.286200Z",
     "shell.execute_reply": "2022-06-13T22:30:32.285250Z"
    },
    "hidden": true,
    "jupyter": {
     "outputs_hidden": true
    },
    "papermill": {
     "duration": 0.471869,
     "end_time": "2022-06-13T22:30:32.288386",
     "exception": false,
     "start_time": "2022-06-13T22:30:31.816517",
     "status": "completed"
    },
    "tags": []
   },
   "outputs": [
    {
     "data": {
      "image/png": "[encoded data removed]",
      "text/plain": [
       "<Figure size 1152x864 with 1 Axes>"
      ]
     },
     "metadata": {},
     "output_type": "display_data"
    }
   ],
   "source": [
    "sns.distplot(aux1.household_size);"
   ]
  },
  {
   "cell_type": "code",
   "execution_count": 20,
   "id": "df03d9ac",
   "metadata": {
    "ExecuteTime": {
     "end_time": "2022-06-03T17:57:36.787679Z",
     "start_time": "2022-06-03T17:57:36.613639Z"
    },
    "collapsed": true,
    "execution": {
     "iopub.execute_input": "2022-06-13T22:30:32.340330Z",
     "iopub.status.busy": "2022-06-13T22:30:32.339321Z",
     "iopub.status.idle": "2022-06-13T22:30:32.742827Z",
     "shell.execute_reply": "2022-06-13T22:30:32.741937Z"
    },
    "hidden": true,
    "jupyter": {
     "outputs_hidden": true
    },
    "papermill": {
     "duration": 0.431902,
     "end_time": "2022-06-13T22:30:32.745264",
     "exception": false,
     "start_time": "2022-06-13T22:30:32.313362",
     "status": "completed"
    },
    "tags": []
   },
   "outputs": [
    {
     "data": {
      "image/png": "[encoded data removed]",
      "text/plain": [
       "<Figure size 1152x864 with 1 Axes>"
      ]
     },
     "metadata": {},
     "output_type": "display_data"
    }
   ],
   "source": [
    "sns.distplot(np.log(aux1.household_size));"
   ]
  },
  {
   "cell_type": "markdown",
   "id": "7b4b2ed4",
   "metadata": {
    "heading_collapsed": true,
    "papermill": {
     "duration": 0.025213,
     "end_time": "2022-06-13T22:30:32.912803",
     "exception": false,
     "start_time": "2022-06-13T22:30:32.887590",
     "status": "completed"
    },
    "tags": []
   },
   "source": [
    "## 2.2 Robust Scaler and Labeling Ages"
   ]
  },
  {
   "cell_type": "markdown",
   "id": "e721070b",
   "metadata": {
    "papermill": {
     "duration": 0.025473,
     "end_time": "2022-06-13T22:30:32.963970",
     "exception": false,
     "start_time": "2022-06-13T22:30:32.938497",
     "status": "completed"
    },
    "tags": []
   },
   "source": [
    "Updated after seeing Private Scores: using Label to \"household_size\" as well performs better."
   ]
  },
  {
   "cell_type": "code",
   "execution_count": 22,
   "id": "cc1ceeb0",
   "metadata": {
    "ExecuteTime": {
     "end_time": "2022-06-03T17:57:42.731385Z",
     "start_time": "2022-06-03T17:57:42.725384Z"
    },
    "execution": {
     "iopub.execute_input": "2022-06-13T22:30:33.018081Z",
     "iopub.status.busy": "2022-06-13T22:30:33.017311Z",
     "iopub.status.idle": "2022-06-13T22:30:33.023868Z",
     "shell.execute_reply": "2022-06-13T22:30:33.023179Z"
    },
    "papermill": {
     "duration": 0.035891,
     "end_time": "2022-06-13T22:30:33.025837",
     "exception": false,
     "start_time": "2022-06-13T22:30:32.989946",
     "status": "completed"
    },
    "tags": []
   },
   "outputs": [],
   "source": [
    "features = aux1.drop(['year', 'uniqueid', 'uid', 'bank_account'], axis=1)"
   ]
  },
  {
   "cell_type": "code",
   "execution_count": 23,
   "id": "bf67eb9e",
   "metadata": {
    "collapsed": true,
    "execution": {
     "iopub.execute_input": "2022-06-13T22:30:33.079505Z",
     "iopub.status.busy": "2022-06-13T22:30:33.078796Z",
     "iopub.status.idle": "2022-06-13T22:30:33.315908Z",
     "shell.execute_reply": "2022-06-13T22:30:33.315231Z"
    },
    "jupyter": {
     "outputs_hidden": true
    },
    "papermill": {
     "duration": 0.265832,
     "end_time": "2022-06-13T22:30:33.317867",
     "exception": false,
     "start_time": "2022-06-13T22:30:33.052035",
     "status": "completed"
    },
    "tags": []
   },
   "outputs": [
    {
     "data": {
      "image/png": "[encoded data removed]",
      "text/plain": [
       "<Figure size 1152x864 with 1 Axes>"
      ]
     },
     "metadata": {},
     "output_type": "display_data"
    }
   ],
   "source": [
    "# features.household_size.plot(kind='box')\n",
    "sns.boxplot(data=features, x=features['household_size']);"
   ]
  },
  {
   "cell_type": "code",
   "execution_count": 24,
   "id": "c8dbcf94",
   "metadata": {
    "collapsed": true,
    "execution": {
     "iopub.execute_input": "2022-06-13T22:30:33.371205Z",
     "iopub.status.busy": "2022-06-13T22:30:33.370576Z",
     "iopub.status.idle": "2022-06-13T22:30:33.587412Z",
     "shell.execute_reply": "2022-06-13T22:30:33.586499Z"
    },
    "jupyter": {
     "outputs_hidden": true
    },
    "papermill": {
     "duration": 0.246002,
     "end_time": "2022-06-13T22:30:33.589617",
     "exception": false,
     "start_time": "2022-06-13T22:30:33.343615",
     "status": "completed"
    },
    "tags": []
   },
   "outputs": [
    {
     "data": {
      "image/png": "[encoded data removed]",
      "text/plain": [
       "<Figure size 1152x864 with 1 Axes>"
      ]
     },
     "metadata": {},
     "output_type": "display_data"
    }
   ],
   "source": [
    "sns.boxplot(data=features, x=features['age_of_respondent']);"
   ]
  },
  {
   "cell_type": "code",
   "execution_count": 26,
   "id": "85f94cc8",
   "metadata": {
    "execution": {
     "iopub.execute_input": "2022-06-13T22:30:33.758313Z",
     "iopub.status.busy": "2022-06-13T22:30:33.757921Z",
     "iopub.status.idle": "2022-06-13T22:30:33.765832Z",
     "shell.execute_reply": "2022-06-13T22:30:33.764938Z"
    },
    "papermill": {
     "duration": 0.036979,
     "end_time": "2022-06-13T22:30:33.767660",
     "exception": false,
     "start_time": "2022-06-13T22:30:33.730681",
     "status": "completed"
    },
    "tags": []
   },
   "outputs": [
    {
     "data": {
      "text/plain": [
       "Index(['country', 'location_type', 'cellphone_access', 'gender_of_respondent',\n",
       "       'relationship_with_head', 'marital_status', 'education_level',\n",
       "       'job_type'],\n",
       "      dtype='object')"
      ]
     },
     "execution_count": 26,
     "metadata": {},
     "output_type": "execute_result"
    }
   ],
   "source": [
    "features.select_dtypes('object').columns"
   ]
  },
  {
   "cell_type": "code",
   "execution_count": 27,
   "id": "f051dc7a",
   "metadata": {
    "execution": {
     "iopub.execute_input": "2022-06-13T22:30:33.822605Z",
     "iopub.status.busy": "2022-06-13T22:30:33.821964Z",
     "iopub.status.idle": "2022-06-13T22:30:33.851009Z",
     "shell.execute_reply": "2022-06-13T22:30:33.850324Z"
    },
    "papermill": {
     "duration": 0.058557,
     "end_time": "2022-06-13T22:30:33.853114",
     "exception": false,
     "start_time": "2022-06-13T22:30:33.794557",
     "status": "completed"
    },
    "tags": []
   },
   "outputs": [],
   "source": [
    "## MUDANÇA 09/06 - LABELS DOS CRIA\n",
    "# [1, 2, 3, 4, 5, 6, 7, 8, 9, 10, 11, 12, 13, 14, 15, 16, 17, 18, 20, 21]\n",
    "\n",
    "cria1 = features.household_size.quantile(0.25)  # 2\n",
    "cria2 = features.household_size.quantile(0.50)  # 3\n",
    "cria3 = features.household_size.quantile(0.75)  # 5\n",
    "\n",
    "def crias(coluna):\n",
    "    if coluna <= cria1:\n",
    "        return \"Single Family\"\n",
    "    elif cria1 < coluna <= cria2:\n",
    "        return \"Nuclear Family\"\n",
    "    elif cria2 < coluna <= cria3:\n",
    "        return \"Extended Family\"\n",
    "    else:\n",
    "        return \"Huge Family\"\n",
    "\n",
    "features['household_size'] = features['household_size'].map(crias) #ref: https://family.lovetoknow.com/about-family-values/types-family-structures"
   ]
  },
  {
   "cell_type": "code",
   "execution_count": 28,
   "id": "0b0edf2d",
   "metadata": {
    "ExecuteTime": {
     "end_time": "2022-06-03T17:57:45.569369Z",
     "start_time": "2022-06-03T17:57:45.565368Z"
    },
    "execution": {
     "iopub.execute_input": "2022-06-13T22:30:33.910995Z",
     "iopub.status.busy": "2022-06-13T22:30:33.910376Z",
     "iopub.status.idle": "2022-06-13T22:30:33.940939Z",
     "shell.execute_reply": "2022-06-13T22:30:33.940139Z"
    },
    "hidden": true,
    "papermill": {
     "duration": 0.060969,
     "end_time": "2022-06-13T22:30:33.943143",
     "exception": false,
     "start_time": "2022-06-13T22:30:33.882174",
     "status": "completed"
    },
    "tags": []
   },
   "outputs": [],
   "source": [
    "# np.percentile(features.age_of_respondent, 100)\n",
    "age1 = features.age_of_respondent.quantile(0.25)\n",
    "age2 = features.age_of_respondent.quantile(0.50)\n",
    "age3 = features.age_of_respondent.quantile(0.75)\n",
    "age1, age2, age3\n",
    "\n",
    "## MUDANÇA 02/06 - AGE LABELS ## great insight from Team PredictThis\n",
    "def idade(coluna):\n",
    "    if coluna <= age1:\n",
    "        return \"Jovem\"\n",
    "    elif age1 < coluna <= age2:\n",
    "        return \"Adulto\"\n",
    "    elif age2 < coluna <= age3:\n",
    "        return \"Velho\"\n",
    "    else:\n",
    "        return \"Mais Velho\"\n",
    "\n",
    "features['age_of_respondent'] = features['age_of_respondent'].map(idade)"
   ]
  },
  {
   "cell_type": "code",
   "execution_count": 29,
   "id": "41ccc002",
   "metadata": {
    "execution": {
     "iopub.execute_input": "2022-06-13T22:30:33.997950Z",
     "iopub.status.busy": "2022-06-13T22:30:33.997330Z",
     "iopub.status.idle": "2022-06-13T22:30:34.006337Z",
     "shell.execute_reply": "2022-06-13T22:30:34.005561Z"
    },
    "papermill": {
     "duration": 0.038615,
     "end_time": "2022-06-13T22:30:34.008210",
     "exception": false,
     "start_time": "2022-06-13T22:30:33.969595",
     "status": "completed"
    },
    "tags": []
   },
   "outputs": [
    {
     "data": {
      "text/plain": [
       "Index(['country', 'location_type', 'cellphone_access', 'household_size',\n",
       "       'age_of_respondent', 'gender_of_respondent', 'relationship_with_head',\n",
       "       'marital_status', 'education_level', 'job_type'],\n",
       "      dtype='object')"
      ]
     },
     "execution_count": 29,
     "metadata": {},
     "output_type": "execute_result"
    }
   ],
   "source": [
    "features.select_dtypes('object').columns"
   ]
  },
  {
   "cell_type": "markdown",
   "id": "a2b808cb",
   "metadata": {
    "papermill": {
     "duration": 0.026202,
     "end_time": "2022-06-13T22:30:34.738198",
     "exception": false,
     "start_time": "2022-06-13T22:30:34.711996",
     "status": "completed"
    },
    "tags": []
   },
   "source": [
    "# 3.0 Pipelining Data"
   ]
  },
  {
   "cell_type": "code",
   "execution_count": 38,
   "id": "8552edc1",
   "metadata": {
    "execution": {
     "iopub.execute_input": "2022-06-13T22:30:34.792922Z",
     "iopub.status.busy": "2022-06-13T22:30:34.792226Z",
     "iopub.status.idle": "2022-06-13T22:30:34.806630Z",
     "shell.execute_reply": "2022-06-13T22:30:34.805936Z"
    },
    "papermill": {
     "duration": 0.044131,
     "end_time": "2022-06-13T22:30:34.808731",
     "exception": false,
     "start_time": "2022-06-13T22:30:34.764600",
     "status": "completed"
    },
    "tags": []
   },
   "outputs": [],
   "source": [
    "X = features #already dropped 'bank_account'\n",
    "aux1['bank_account'] = aux1['bank_account'].replace(['Yes', 'No'], [1, 0])\n",
    "y = aux1['bank_account'] #  'target'"
   ]
  },
  {
   "cell_type": "code",
   "execution_count": 39,
   "id": "5526bcb6",
   "metadata": {
    "execution": {
     "iopub.execute_input": "2022-06-13T22:30:34.863394Z",
     "iopub.status.busy": "2022-06-13T22:30:34.862696Z",
     "iopub.status.idle": "2022-06-13T22:30:34.869525Z",
     "shell.execute_reply": "2022-06-13T22:30:34.868857Z"
    },
    "papermill": {
     "duration": 0.036451,
     "end_time": "2022-06-13T22:30:34.871390",
     "exception": false,
     "start_time": "2022-06-13T22:30:34.834939",
     "status": "completed"
    },
    "tags": []
   },
   "outputs": [],
   "source": [
    "obj_cols = list(X.select_dtypes('object').columns)"
   ]
  },
  {
   "cell_type": "code",
   "execution_count": 40,
   "id": "cff295b4",
   "metadata": {
    "execution": {
     "iopub.execute_input": "2022-06-13T22:30:34.925895Z",
     "iopub.status.busy": "2022-06-13T22:30:34.925186Z",
     "iopub.status.idle": "2022-06-13T22:30:34.929953Z",
     "shell.execute_reply": "2022-06-13T22:30:34.929375Z"
    },
    "papermill": {
     "duration": 0.03426,
     "end_time": "2022-06-13T22:30:34.931840",
     "exception": false,
     "start_time": "2022-06-13T22:30:34.897580",
     "status": "completed"
    },
    "tags": []
   },
   "outputs": [],
   "source": [
    "ct = ColumnTransformer([('ohe', OneHotEncoder(), obj_cols)], remainder=StandardScaler())"
   ]
  },
  {
   "cell_type": "code",
   "execution_count": 41,
   "id": "94b85dfd",
   "metadata": {
    "execution": {
     "iopub.execute_input": "2022-06-13T22:30:34.986509Z",
     "iopub.status.busy": "2022-06-13T22:30:34.985772Z",
     "iopub.status.idle": "2022-06-13T22:37:49.652885Z",
     "shell.execute_reply": "2022-06-13T22:37:49.651921Z"
    },
    "papermill": {
     "duration": 434.719614,
     "end_time": "2022-06-13T22:37:49.677551",
     "exception": false,
     "start_time": "2022-06-13T22:30:34.957937",
     "status": "completed"
    },
    "tags": []
   },
   "outputs": [
    {
     "name": "stdout",
     "output_type": "stream",
     "text": [
      "Fitting 5 folds for each of 12 candidates, totalling 60 fits\n",
      "best parameters:  {'xg__colsample_bytree': 1, 'xg__learning_rate': 0.01, 'xg__max_depth': 4, 'xg__min_child_weight': 3, 'xg__n_estimators': 1250, 'xg__subsample': 0.5}\n",
      "best score:  0.8868388090467807\n",
      "CPU times: user 28min 21s, sys: 6.23 s, total: 28min 27s\n",
      "Wall time: 7min 14s\n"
     ]
    }
   ],
   "source": [
    "%%time\n",
    "# X = onehot[features_onehot] #  features\n",
    "# aux1['bank_account'] = aux1['bank_account'].replace(['Yes', 'No'], [1, 0])\n",
    "# y = aux1['bank_account'] #  'target'\n",
    "\n",
    "\n",
    "params = {\n",
    "    'xg__n_estimators': [1000, 1250],\n",
    "    'xg__learning_rate': [0.01],\n",
    "    'xg__max_depth': [3, 4],\n",
    "    'xg__subsample': [0.5],\n",
    "    'xg__colsample_bytree': [1],\n",
    "    'xg__min_child_weight': [3, 8, 15] \n",
    "        }\n",
    "\n",
    "pipexgb = Pipeline([\n",
    "                    ('ct', ct),\n",
    "                    ('xg', XGBClassifier(random_state=42))\n",
    "                    ])\n",
    "\n",
    "\n",
    "gs = GridSearchCV(pipexgb, params, cv=5, refit=True, scoring='f1_micro', verbose=True)\n",
    "gs.fit(X, y)\n",
    "\n",
    "print(\"best parameters: \",gs.best_params_)\n",
    "print(\"best score: \", gs.best_score_)"
   ]
  },
  {
   "cell_type": "code",
   "execution_count": 42,
   "id": "1baa9ede",
   "metadata": {
    "execution": {
     "iopub.execute_input": "2022-06-13T22:37:49.733583Z",
     "iopub.status.busy": "2022-06-13T22:37:49.733203Z",
     "iopub.status.idle": "2022-06-13T22:37:49.771497Z",
     "shell.execute_reply": "2022-06-13T22:37:49.770580Z"
    },
    "papermill": {
     "duration": 0.068409,
     "end_time": "2022-06-13T22:37:49.773814",
     "exception": false,
     "start_time": "2022-06-13T22:37:49.705405",
     "status": "completed"
    },
    "tags": []
   },
   "outputs": [],
   "source": [
    "df_test = pd.read_csv('../input/inclusao-financeira-na-africa/test.csv')"
   ]
  },
  {
   "cell_type": "code",
   "execution_count": 43,
   "id": "b5dfe195",
   "metadata": {
    "execution": {
     "iopub.execute_input": "2022-06-13T22:37:49.830205Z",
     "iopub.status.busy": "2022-06-13T22:37:49.829143Z",
     "iopub.status.idle": "2022-06-13T22:37:49.874375Z",
     "shell.execute_reply": "2022-06-13T22:37:49.873613Z"
    },
    "papermill": {
     "duration": 0.075252,
     "end_time": "2022-06-13T22:37:49.876522",
     "exception": false,
     "start_time": "2022-06-13T22:37:49.801270",
     "status": "completed"
    },
    "tags": []
   },
   "outputs": [],
   "source": [
    "df_test['household_size']= df_test['household_size'].map(crias)\n",
    "df_test['age_of_respondent'] = df_test['age_of_respondent'].map(idade)"
   ]
  },
  {
   "cell_type": "code",
   "execution_count": 44,
   "id": "616c6c76",
   "metadata": {
    "execution": {
     "iopub.execute_input": "2022-06-13T22:37:49.931985Z",
     "iopub.status.busy": "2022-06-13T22:37:49.931335Z",
     "iopub.status.idle": "2022-06-13T22:37:50.206921Z",
     "shell.execute_reply": "2022-06-13T22:37:50.206139Z"
    },
    "papermill": {
     "duration": 0.305687,
     "end_time": "2022-06-13T22:37:50.209231",
     "exception": false,
     "start_time": "2022-06-13T22:37:49.903544",
     "status": "completed"
    },
    "tags": []
   },
   "outputs": [],
   "source": [
    "pred = gs.predict(df_test.drop(columns=['year', 'uniqueid', 'uid']))"
   ]
  },
  {
   "cell_type": "code",
   "execution_count": 45,
   "id": "2a4b54f1",
   "metadata": {
    "execution": {
     "iopub.execute_input": "2022-06-13T22:37:50.265917Z",
     "iopub.status.busy": "2022-06-13T22:37:50.265184Z",
     "iopub.status.idle": "2022-06-13T22:37:50.305667Z",
     "shell.execute_reply": "2022-06-13T22:37:50.304841Z"
    },
    "papermill": {
     "duration": 0.070188,
     "end_time": "2022-06-13T22:37:50.307875",
     "exception": false,
     "start_time": "2022-06-13T22:37:50.237687",
     "status": "completed"
    },
    "tags": []
   },
   "outputs": [],
   "source": [
    "pred_labels = pd.Series(pred).apply(lambda x: 'No' if x == 0 else 'Yes')\n",
    "df_final = pd.concat([df_test['uid'], pred_labels], axis=1)\n",
    "df_final.columns = ['uid', 'bank_account']\n",
    "df_final.to_csv('submission.csv', index=False)"
   ]
  }
 ],
 "metadata": {
  "kernelspec": {
   "display_name": "Python 3",
   "language": "python",
   "name": "python3"
  },
  "language_info": {
   "codemirror_mode": {
    "name": "ipython",
    "version": 3
   },
   "file_extension": ".py",
   "mimetype": "text/x-python",
   "name": "python",
   "nbconvert_exporter": "python",
   "pygments_lexer": "ipython3",
   "version": "3.7.12"
  },
  "papermill": {
   "default_parameters": {},
   "duration": 455.608489,
   "end_time": "2022-06-13T22:37:52.008896",
   "environment_variables": {},
   "exception": null,
   "input_path": "__notebook__.ipynb",
   "output_path": "__notebook__.ipynb",
   "parameters": {},
   "start_time": "2022-06-13T22:30:16.400407",
   "version": "2.3.4"
  }
 },
 "nbformat": 4,
 "nbformat_minor": 5
}
